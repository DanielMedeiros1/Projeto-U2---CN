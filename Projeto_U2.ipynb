{
 "cells": [
  {
   "cell_type": "markdown",
   "metadata": {},
   "source": [
    "# Projeto Unidade II : Ajuste de Curvas via MMQ e RBF.\n",
    "\n",
    "Seja o sistema dinâmico dado pela função não linear,\n",
    "\n",
    "$$y[n] = f(\\hat{y}[n-1],\\hat{y}[n-2],u[n],u[n-1]).$$\n",
    "\n",
    "Cujos conjuntos entradas / saídas são apresentados via arquivos:\n",
    "\n",
    "1. **dados\\_01.dat** e,\n",
    "2. **dados\\_02.dat**.\n",
    "\n",
    "Implemente um identificador para a dinâmica do sistema, utilizando o **Método dos Mínimos Quadrados(MMQ)** e **via Funções de Base Radial (RBF)** que deve\n",
    "\n",
    "1. ser treinado com **dados\\_01.dat** e,\n",
    "2. testado e validado com **dados\\_02.dat**.\n",
    "\n",
    "Compare os modelos e apresente o de melhor resultado com conclusões.\n"
   ]
  },
  {
   "cell_type": "code",
   "execution_count": null,
   "metadata": {},
   "outputs": [],
   "source": [
    "import numpy as np\n",
    "import matplotlib.pyplot as plt\n",
    "import numpy.linalg as la\n",
    "from scipy.signal import butter, sosfiltfilt"
   ]
  },
  {
   "cell_type": "code",
   "execution_count": null,
   "metadata": {},
   "outputs": [],
   "source": [
    "data = np.loadtxt('D:\\dados_01.dat')\n",
    "data2 = np.loadtxt('D:\\dados_02.dat')\n",
    "\n",
    "t = data[:,0]\n",
    "u = data[:,1]\n",
    "y = data[:,2]\n",
    "\n",
    "plt.figure(figsize = (14,4))\n",
    "plt.plot(t,y, lw = 2, alpha = .5, label = 'dados')\n",
    "plt.legend(loc = 'upper right', bbox_to_anchor = (.98,.99))\n",
    "plt.show()"
   ]
  },
  {
   "cell_type": "markdown",
   "metadata": {},
   "source": [
    "## Etapa de Treinamento"
   ]
  },
  {
   "cell_type": "code",
   "execution_count": null,
   "metadata": {},
   "outputs": [],
   "source": []
  },
  {
   "cell_type": "code",
   "execution_count": null,
   "metadata": {},
   "outputs": [],
   "source": [
    "p = np.poly1d( np.polyfit(y, f_train, 1) )\n",
    "t = np.linspace(-3, 3, 500)\n",
    "#\n",
    "EMQ = np.mean((y - f_train)**2)\n",
    "#\n",
    "plt.figure(figsize = (14,4))\n",
    "plt.suptitle(\"Erro de treinamento\", fontsize=18, y=0.95)\n",
    "plt.plot(y, f_train, 'o', t, p(t), '-')\n",
    "plt.text(2.5, 2.7, 'EMQ = %.4f' %EMQ)\n",
    "#plt.text(2.5, 2, 'STD = %.4f' %STD)\n",
    "plt.axis('off')\n",
    "plt.show()"
   ]
  },
  {
   "cell_type": "markdown",
   "metadata": {},
   "source": [
    "## Etapa de Testes"
   ]
  },
  {
   "cell_type": "code",
   "execution_count": null,
   "metadata": {},
   "outputs": [],
   "source": [
    "#======= Band-Pass Filter =====================================================\n",
    "\n",
    "def bandpass(data: np.ndarray, edges: list[float], sample_rate: float, poles: int = 5):\n",
    "    sos = butter(poles, edges, 'bandpass', fs=sample_rate, output='sos')\n",
    "    filtered_data = sosfiltfilt(sos, data)\n",
    "    return filtered_data\n",
    "\n",
    "\n",
    "#============ Teste =======================================================\n"
   ]
  },
  {
   "cell_type": "code",
   "execution_count": null,
   "metadata": {},
   "outputs": [],
   "source": [
    "f_val = bandpass(f_val, [0.1, 20], 100)\n",
    "\n",
    "EMQ = np.mean((y2 - f_val)**2)\n",
    "\n",
    "N2 = 70\n",
    "plt.figure(figsize = (14,4))\n",
    "plt.suptitle(\"Etapa de teste\", fontsize=18, y=0.95)\n",
    "plt.plot(t2[0:N2],y2[0:N2],'o-', lw = 2, alpha = .5, label = 'dados_02')\n",
    "plt.plot(t2[0:N2],f_val[0:N2],'r--', lw = 2, alpha = .5, label = 'RBF_teste')\n",
    "plt.text(2.5, 1.4, 'EMQ da RBF = %.4f' %EMQ)\n",
    "plt.legend(loc = 'upper right', bbox_to_anchor = (.98,.99))\n",
    "plt.axis('off')\n",
    "\n",
    "plt.tight_layout()\n",
    "plt.show()"
   ]
  },
  {
   "cell_type": "markdown",
   "metadata": {},
   "source": [
    "## Etapa de Validação"
   ]
  },
  {
   "cell_type": "code",
   "execution_count": null,
   "metadata": {},
   "outputs": [],
   "source": [
    "p_in = np.ones((len(u2)))\n",
    "#p_in = np.random.rand(len(u2))"
   ]
  },
  {
   "cell_type": "code",
   "execution_count": null,
   "metadata": {},
   "outputs": [],
   "source": []
  }
 ],
 "metadata": {
  "kernelspec": {
   "display_name": "Python 3",
   "language": "python",
   "name": "python3"
  },
  "language_info": {
   "codemirror_mode": {
    "name": "ipython",
    "version": 3
   },
   "file_extension": ".py",
   "mimetype": "text/x-python",
   "name": "python",
   "nbconvert_exporter": "python",
   "pygments_lexer": "ipython3",
   "version": "3.11.5"
  }
 },
 "nbformat": 4,
 "nbformat_minor": 4
}
